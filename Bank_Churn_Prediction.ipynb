{
 "cells": [
  {
   "cell_type": "raw",
   "metadata": {},
   "source": [
    "Objective:\n",
    "Given a Bank customer, build a neural network based classifier that can determine whether they will leave\n",
    "or not in the next 6 months.\n",
    "\n",
    "Context:\n",
    "Businesses like banks which provide service have to worry about problem of 'Churn' i.e. customers\n",
    "leaving and joining another service provider. It is important to understand which aspects of the service\n",
    "influence a customer's decision in this regard. Management can concentrate efforts on improvement of\n",
    "service, keeping in mind these priorities.\n",
    "\n",
    "Data Description:\n",
    "The case study is from an open-source dataset from Kaggle.\n",
    "The dataset contains 10,000 sample points with 14 d"
   ]
  },
  {
   "cell_type": "code",
   "execution_count": 292,
   "metadata": {},
   "outputs": [
    {
     "name": "stdout",
     "output_type": "stream",
     "text": [
      "2.0.0\n"
     ]
    }
   ],
   "source": [
    "import tensorflow as tf\n",
    "print(tf.__version__)"
   ]
  },
  {
   "cell_type": "code",
   "execution_count": 293,
   "metadata": {},
   "outputs": [],
   "source": [
    "import pandas as pd\n",
    "import numpy as np\n",
    "from sklearn.model_selection import train_test_split\n",
    "import tensorflow as tf\n",
    "from sklearn import preprocessing\n",
    "from tensorflow.keras.models import Sequential\n",
    "from tensorflow.keras.layers import Dense, Dropout, BatchNormalization\n",
    "from sklearn.metrics import accuracy_score, confusion_matrix, precision_score, recall_score, f1_score, precision_recall_curve, auc\n",
    "import matplotlib.pyplot as plt\n",
    "from tensorflow.keras import optimizers"
   ]
  },
  {
   "cell_type": "code",
   "execution_count": 294,
   "metadata": {},
   "outputs": [],
   "source": [
    "# Loading data\n",
    "dataset  = pd.read_csv(\"bank.csv\")"
   ]
  },
  {
   "cell_type": "code",
   "execution_count": 295,
   "metadata": {},
   "outputs": [
    {
     "data": {
      "text/html": [
       "<div>\n",
       "<style scoped>\n",
       "    .dataframe tbody tr th:only-of-type {\n",
       "        vertical-align: middle;\n",
       "    }\n",
       "\n",
       "    .dataframe tbody tr th {\n",
       "        vertical-align: top;\n",
       "    }\n",
       "\n",
       "    .dataframe thead th {\n",
       "        text-align: right;\n",
       "    }\n",
       "</style>\n",
       "<table border=\"1\" class=\"dataframe\">\n",
       "  <thead>\n",
       "    <tr style=\"text-align: right;\">\n",
       "      <th></th>\n",
       "      <th>RowNumber</th>\n",
       "      <th>CustomerId</th>\n",
       "      <th>Surname</th>\n",
       "      <th>CreditScore</th>\n",
       "      <th>Geography</th>\n",
       "      <th>Gender</th>\n",
       "      <th>Age</th>\n",
       "      <th>Tenure</th>\n",
       "      <th>Balance</th>\n",
       "      <th>NumOfProducts</th>\n",
       "      <th>HasCrCard</th>\n",
       "      <th>IsActiveMember</th>\n",
       "      <th>EstimatedSalary</th>\n",
       "      <th>Exited</th>\n",
       "    </tr>\n",
       "  </thead>\n",
       "  <tbody>\n",
       "    <tr>\n",
       "      <th>0</th>\n",
       "      <td>1</td>\n",
       "      <td>15634602</td>\n",
       "      <td>Hargrave</td>\n",
       "      <td>619</td>\n",
       "      <td>France</td>\n",
       "      <td>Female</td>\n",
       "      <td>42</td>\n",
       "      <td>2</td>\n",
       "      <td>0.00</td>\n",
       "      <td>1</td>\n",
       "      <td>1</td>\n",
       "      <td>1</td>\n",
       "      <td>101348.88</td>\n",
       "      <td>1</td>\n",
       "    </tr>\n",
       "    <tr>\n",
       "      <th>1</th>\n",
       "      <td>2</td>\n",
       "      <td>15647311</td>\n",
       "      <td>Hill</td>\n",
       "      <td>608</td>\n",
       "      <td>Spain</td>\n",
       "      <td>Female</td>\n",
       "      <td>41</td>\n",
       "      <td>1</td>\n",
       "      <td>83807.86</td>\n",
       "      <td>1</td>\n",
       "      <td>0</td>\n",
       "      <td>1</td>\n",
       "      <td>112542.58</td>\n",
       "      <td>0</td>\n",
       "    </tr>\n",
       "    <tr>\n",
       "      <th>2</th>\n",
       "      <td>3</td>\n",
       "      <td>15619304</td>\n",
       "      <td>Onio</td>\n",
       "      <td>502</td>\n",
       "      <td>France</td>\n",
       "      <td>Female</td>\n",
       "      <td>42</td>\n",
       "      <td>8</td>\n",
       "      <td>159660.80</td>\n",
       "      <td>3</td>\n",
       "      <td>1</td>\n",
       "      <td>0</td>\n",
       "      <td>113931.57</td>\n",
       "      <td>1</td>\n",
       "    </tr>\n",
       "    <tr>\n",
       "      <th>3</th>\n",
       "      <td>4</td>\n",
       "      <td>15701354</td>\n",
       "      <td>Boni</td>\n",
       "      <td>699</td>\n",
       "      <td>France</td>\n",
       "      <td>Female</td>\n",
       "      <td>39</td>\n",
       "      <td>1</td>\n",
       "      <td>0.00</td>\n",
       "      <td>2</td>\n",
       "      <td>0</td>\n",
       "      <td>0</td>\n",
       "      <td>93826.63</td>\n",
       "      <td>0</td>\n",
       "    </tr>\n",
       "    <tr>\n",
       "      <th>4</th>\n",
       "      <td>5</td>\n",
       "      <td>15737888</td>\n",
       "      <td>Mitchell</td>\n",
       "      <td>850</td>\n",
       "      <td>Spain</td>\n",
       "      <td>Female</td>\n",
       "      <td>43</td>\n",
       "      <td>2</td>\n",
       "      <td>125510.82</td>\n",
       "      <td>1</td>\n",
       "      <td>1</td>\n",
       "      <td>1</td>\n",
       "      <td>79084.10</td>\n",
       "      <td>0</td>\n",
       "    </tr>\n",
       "  </tbody>\n",
       "</table>\n",
       "</div>"
      ],
      "text/plain": [
       "   RowNumber  CustomerId   Surname  CreditScore Geography  Gender  Age  \\\n",
       "0          1    15634602  Hargrave          619    France  Female   42   \n",
       "1          2    15647311      Hill          608     Spain  Female   41   \n",
       "2          3    15619304      Onio          502    France  Female   42   \n",
       "3          4    15701354      Boni          699    France  Female   39   \n",
       "4          5    15737888  Mitchell          850     Spain  Female   43   \n",
       "\n",
       "   Tenure    Balance  NumOfProducts  HasCrCard  IsActiveMember  \\\n",
       "0       2       0.00              1          1               1   \n",
       "1       1   83807.86              1          0               1   \n",
       "2       8  159660.80              3          1               0   \n",
       "3       1       0.00              2          0               0   \n",
       "4       2  125510.82              1          1               1   \n",
       "\n",
       "   EstimatedSalary  Exited  \n",
       "0        101348.88       1  \n",
       "1        112542.58       0  \n",
       "2        113931.57       1  \n",
       "3         93826.63       0  \n",
       "4         79084.10       0  "
      ]
     },
     "execution_count": 295,
     "metadata": {},
     "output_type": "execute_result"
    }
   ],
   "source": [
    "dataset.head()"
   ]
  },
  {
   "cell_type": "code",
   "execution_count": 296,
   "metadata": {},
   "outputs": [
    {
     "data": {
      "text/plain": [
       "RowNumber          10000\n",
       "CustomerId         10000\n",
       "Surname             2932\n",
       "CreditScore          460\n",
       "Geography              3\n",
       "Gender                 2\n",
       "Age                   70\n",
       "Tenure                11\n",
       "Balance             6382\n",
       "NumOfProducts          4\n",
       "HasCrCard              2\n",
       "IsActiveMember         2\n",
       "EstimatedSalary     9999\n",
       "Exited                 2\n",
       "dtype: int64"
      ]
     },
     "execution_count": 296,
     "metadata": {},
     "output_type": "execute_result"
    }
   ],
   "source": [
    "#Checking unique values to decide categorical attributes vs others\n",
    "dataset.nunique()"
   ]
  },
  {
   "cell_type": "code",
   "execution_count": 297,
   "metadata": {},
   "outputs": [
    {
     "name": "stdout",
     "output_type": "stream",
     "text": [
      "<class 'pandas.core.frame.DataFrame'>\n",
      "RangeIndex: 10000 entries, 0 to 9999\n",
      "Data columns (total 14 columns):\n",
      " #   Column           Non-Null Count  Dtype  \n",
      "---  ------           --------------  -----  \n",
      " 0   RowNumber        10000 non-null  int64  \n",
      " 1   CustomerId       10000 non-null  int64  \n",
      " 2   Surname          10000 non-null  object \n",
      " 3   CreditScore      10000 non-null  int64  \n",
      " 4   Geography        10000 non-null  object \n",
      " 5   Gender           10000 non-null  object \n",
      " 6   Age              10000 non-null  int64  \n",
      " 7   Tenure           10000 non-null  int64  \n",
      " 8   Balance          10000 non-null  float64\n",
      " 9   NumOfProducts    10000 non-null  int64  \n",
      " 10  HasCrCard        10000 non-null  int64  \n",
      " 11  IsActiveMember   10000 non-null  int64  \n",
      " 12  EstimatedSalary  10000 non-null  float64\n",
      " 13  Exited           10000 non-null  int64  \n",
      "dtypes: float64(2), int64(9), object(3)\n",
      "memory usage: 1.1+ MB\n"
     ]
    }
   ],
   "source": [
    "# Checking null values and datatypes\n",
    "dataset.info()"
   ]
  },
  {
   "cell_type": "code",
   "execution_count": 298,
   "metadata": {},
   "outputs": [],
   "source": [
    "# Drop RowNumber and CustomerId because it won't be useful in predictive task\n",
    "dataset.drop(['RowNumber', 'CustomerId', 'Surname'], axis=1, inplace=True)"
   ]
  },
  {
   "cell_type": "code",
   "execution_count": 299,
   "metadata": {},
   "outputs": [],
   "source": [
    "# Convert object dtype into category\n",
    "cat_features = ['Geography', 'Gender', 'HasCrCard', 'IsActiveMember', 'NumOfProducts', 'Tenure']\n",
    "for colname in cat_features:\n",
    "    dataset[colname] = dataset[colname].astype('category')"
   ]
  },
  {
   "cell_type": "code",
   "execution_count": 300,
   "metadata": {},
   "outputs": [],
   "source": [
    "#\n",
    "dataset.columns\n",
    "num_features = ['CreditScore', 'Age', 'Balance', 'EstimatedSalary']"
   ]
  },
  {
   "cell_type": "code",
   "execution_count": 301,
   "metadata": {},
   "outputs": [
    {
     "data": {
      "text/html": [
       "<div>\n",
       "<style scoped>\n",
       "    .dataframe tbody tr th:only-of-type {\n",
       "        vertical-align: middle;\n",
       "    }\n",
       "\n",
       "    .dataframe tbody tr th {\n",
       "        vertical-align: top;\n",
       "    }\n",
       "\n",
       "    .dataframe thead th {\n",
       "        text-align: right;\n",
       "    }\n",
       "</style>\n",
       "<table border=\"1\" class=\"dataframe\">\n",
       "  <thead>\n",
       "    <tr style=\"text-align: right;\">\n",
       "      <th></th>\n",
       "      <th>CreditScore</th>\n",
       "      <th>Age</th>\n",
       "      <th>Balance</th>\n",
       "      <th>EstimatedSalary</th>\n",
       "      <th>Exited</th>\n",
       "    </tr>\n",
       "  </thead>\n",
       "  <tbody>\n",
       "    <tr>\n",
       "      <th>0</th>\n",
       "      <td>-0.326221</td>\n",
       "      <td>0.293517</td>\n",
       "      <td>-1.225848</td>\n",
       "      <td>0.021886</td>\n",
       "      <td>1</td>\n",
       "    </tr>\n",
       "    <tr>\n",
       "      <th>1</th>\n",
       "      <td>-0.440036</td>\n",
       "      <td>0.198164</td>\n",
       "      <td>0.117350</td>\n",
       "      <td>0.216534</td>\n",
       "      <td>0</td>\n",
       "    </tr>\n",
       "    <tr>\n",
       "      <th>2</th>\n",
       "      <td>-1.536794</td>\n",
       "      <td>0.293517</td>\n",
       "      <td>1.333053</td>\n",
       "      <td>0.240687</td>\n",
       "      <td>1</td>\n",
       "    </tr>\n",
       "    <tr>\n",
       "      <th>3</th>\n",
       "      <td>0.501521</td>\n",
       "      <td>0.007457</td>\n",
       "      <td>-1.225848</td>\n",
       "      <td>-0.108918</td>\n",
       "      <td>0</td>\n",
       "    </tr>\n",
       "    <tr>\n",
       "      <th>4</th>\n",
       "      <td>2.063884</td>\n",
       "      <td>0.388871</td>\n",
       "      <td>0.785728</td>\n",
       "      <td>-0.365276</td>\n",
       "      <td>0</td>\n",
       "    </tr>\n",
       "  </tbody>\n",
       "</table>\n",
       "</div>"
      ],
      "text/plain": [
       "   CreditScore       Age   Balance  EstimatedSalary  Exited\n",
       "0    -0.326221  0.293517 -1.225848         0.021886       1\n",
       "1    -0.440036  0.198164  0.117350         0.216534       0\n",
       "2    -1.536794  0.293517  1.333053         0.240687       1\n",
       "3     0.501521  0.007457 -1.225848        -0.108918       0\n",
       "4     2.063884  0.388871  0.785728        -0.365276       0"
      ]
     },
     "execution_count": 301,
     "metadata": {},
     "output_type": "execute_result"
    }
   ],
   "source": [
    "#Normalizing the Non categorical features\n",
    "from sklearn.preprocessing import StandardScaler\n",
    "ss = StandardScaler()\n",
    "standardized_df = pd.DataFrame(ss.fit_transform(dataset[num_features]), columns = num_features)\n",
    "standardized_df['Exited'] = dataset['Exited']\n",
    "standardized_df.head()"
   ]
  },
  {
   "cell_type": "code",
   "execution_count": 302,
   "metadata": {},
   "outputs": [
    {
     "data": {
      "text/html": [
       "<div>\n",
       "<style scoped>\n",
       "    .dataframe tbody tr th:only-of-type {\n",
       "        vertical-align: middle;\n",
       "    }\n",
       "\n",
       "    .dataframe tbody tr th {\n",
       "        vertical-align: top;\n",
       "    }\n",
       "\n",
       "    .dataframe thead th {\n",
       "        text-align: right;\n",
       "    }\n",
       "</style>\n",
       "<table border=\"1\" class=\"dataframe\">\n",
       "  <thead>\n",
       "    <tr style=\"text-align: right;\">\n",
       "      <th></th>\n",
       "      <th>Geography</th>\n",
       "      <th>Gender</th>\n",
       "      <th>HasCrCard</th>\n",
       "      <th>IsActiveMember</th>\n",
       "      <th>NumOfProducts</th>\n",
       "      <th>Tenure</th>\n",
       "    </tr>\n",
       "  </thead>\n",
       "  <tbody>\n",
       "    <tr>\n",
       "      <th>0</th>\n",
       "      <td>0</td>\n",
       "      <td>0</td>\n",
       "      <td>1</td>\n",
       "      <td>1</td>\n",
       "      <td>0</td>\n",
       "      <td>2</td>\n",
       "    </tr>\n",
       "    <tr>\n",
       "      <th>1</th>\n",
       "      <td>2</td>\n",
       "      <td>0</td>\n",
       "      <td>0</td>\n",
       "      <td>1</td>\n",
       "      <td>0</td>\n",
       "      <td>1</td>\n",
       "    </tr>\n",
       "    <tr>\n",
       "      <th>2</th>\n",
       "      <td>0</td>\n",
       "      <td>0</td>\n",
       "      <td>1</td>\n",
       "      <td>0</td>\n",
       "      <td>2</td>\n",
       "      <td>8</td>\n",
       "    </tr>\n",
       "    <tr>\n",
       "      <th>3</th>\n",
       "      <td>0</td>\n",
       "      <td>0</td>\n",
       "      <td>0</td>\n",
       "      <td>0</td>\n",
       "      <td>1</td>\n",
       "      <td>1</td>\n",
       "    </tr>\n",
       "    <tr>\n",
       "      <th>4</th>\n",
       "      <td>2</td>\n",
       "      <td>0</td>\n",
       "      <td>1</td>\n",
       "      <td>1</td>\n",
       "      <td>0</td>\n",
       "      <td>2</td>\n",
       "    </tr>\n",
       "  </tbody>\n",
       "</table>\n",
       "</div>"
      ],
      "text/plain": [
       "   Geography  Gender  HasCrCard  IsActiveMember  NumOfProducts  Tenure\n",
       "0          0       0          1               1              0       2\n",
       "1          2       0          0               1              0       1\n",
       "2          0       0          1               0              2       8\n",
       "3          0       0          0               0              1       1\n",
       "4          2       0          1               1              0       2"
      ]
     },
     "execution_count": 302,
     "metadata": {},
     "output_type": "execute_result"
    }
   ],
   "source": [
    "# Encoding for categorical data\n",
    "from sklearn.preprocessing import LabelEncoder\n",
    "le_geography = LabelEncoder()\n",
    "le_gender = LabelEncoder()\n",
    "le_HasCrCard = LabelEncoder()\n",
    "le_IsActiveMember = LabelEncoder()\n",
    "le_NumOfProducts = LabelEncoder()\n",
    "le_Tenure = LabelEncoder()\n",
    "\n",
    "le_df = pd.DataFrame()\n",
    "\n",
    "le_df['Geography'] = le_geography.fit_transform(dataset['Geography'])\n",
    "le_df['Gender'] = le_gender.fit_transform(dataset['Gender'])\n",
    "le_df['HasCrCard'] = le_HasCrCard.fit_transform(dataset['HasCrCard'])\n",
    "le_df['IsActiveMember'] = le_IsActiveMember.fit_transform(dataset['IsActiveMember'])\n",
    "le_df['NumOfProducts'] = le_NumOfProducts.fit_transform(dataset['NumOfProducts'])\n",
    "le_df['Tenure'] = le_Tenure.fit_transform(dataset['Tenure'])\n",
    "\n",
    "le_df.head()"
   ]
  },
  {
   "cell_type": "code",
   "execution_count": 303,
   "metadata": {
    "scrolled": true
   },
   "outputs": [
    {
     "data": {
      "text/html": [
       "<div>\n",
       "<style scoped>\n",
       "    .dataframe tbody tr th:only-of-type {\n",
       "        vertical-align: middle;\n",
       "    }\n",
       "\n",
       "    .dataframe tbody tr th {\n",
       "        vertical-align: top;\n",
       "    }\n",
       "\n",
       "    .dataframe thead th {\n",
       "        text-align: right;\n",
       "    }\n",
       "</style>\n",
       "<table border=\"1\" class=\"dataframe\">\n",
       "  <thead>\n",
       "    <tr style=\"text-align: right;\">\n",
       "      <th></th>\n",
       "      <th>CreditScore</th>\n",
       "      <th>Age</th>\n",
       "      <th>Balance</th>\n",
       "      <th>EstimatedSalary</th>\n",
       "      <th>Exited</th>\n",
       "      <th>Geography</th>\n",
       "      <th>Gender</th>\n",
       "      <th>HasCrCard</th>\n",
       "      <th>IsActiveMember</th>\n",
       "      <th>NumOfProducts</th>\n",
       "      <th>Tenure</th>\n",
       "    </tr>\n",
       "  </thead>\n",
       "  <tbody>\n",
       "    <tr>\n",
       "      <th>0</th>\n",
       "      <td>-0.326221</td>\n",
       "      <td>0.293517</td>\n",
       "      <td>-1.225848</td>\n",
       "      <td>0.021886</td>\n",
       "      <td>1</td>\n",
       "      <td>0</td>\n",
       "      <td>0</td>\n",
       "      <td>1</td>\n",
       "      <td>1</td>\n",
       "      <td>0</td>\n",
       "      <td>2</td>\n",
       "    </tr>\n",
       "    <tr>\n",
       "      <th>1</th>\n",
       "      <td>-0.440036</td>\n",
       "      <td>0.198164</td>\n",
       "      <td>0.117350</td>\n",
       "      <td>0.216534</td>\n",
       "      <td>0</td>\n",
       "      <td>2</td>\n",
       "      <td>0</td>\n",
       "      <td>0</td>\n",
       "      <td>1</td>\n",
       "      <td>0</td>\n",
       "      <td>1</td>\n",
       "    </tr>\n",
       "    <tr>\n",
       "      <th>2</th>\n",
       "      <td>-1.536794</td>\n",
       "      <td>0.293517</td>\n",
       "      <td>1.333053</td>\n",
       "      <td>0.240687</td>\n",
       "      <td>1</td>\n",
       "      <td>0</td>\n",
       "      <td>0</td>\n",
       "      <td>1</td>\n",
       "      <td>0</td>\n",
       "      <td>2</td>\n",
       "      <td>8</td>\n",
       "    </tr>\n",
       "    <tr>\n",
       "      <th>3</th>\n",
       "      <td>0.501521</td>\n",
       "      <td>0.007457</td>\n",
       "      <td>-1.225848</td>\n",
       "      <td>-0.108918</td>\n",
       "      <td>0</td>\n",
       "      <td>0</td>\n",
       "      <td>0</td>\n",
       "      <td>0</td>\n",
       "      <td>0</td>\n",
       "      <td>1</td>\n",
       "      <td>1</td>\n",
       "    </tr>\n",
       "    <tr>\n",
       "      <th>4</th>\n",
       "      <td>2.063884</td>\n",
       "      <td>0.388871</td>\n",
       "      <td>0.785728</td>\n",
       "      <td>-0.365276</td>\n",
       "      <td>0</td>\n",
       "      <td>2</td>\n",
       "      <td>0</td>\n",
       "      <td>1</td>\n",
       "      <td>1</td>\n",
       "      <td>0</td>\n",
       "      <td>2</td>\n",
       "    </tr>\n",
       "  </tbody>\n",
       "</table>\n",
       "</div>"
      ],
      "text/plain": [
       "   CreditScore       Age   Balance  EstimatedSalary  Exited  Geography  \\\n",
       "0    -0.326221  0.293517 -1.225848         0.021886       1          0   \n",
       "1    -0.440036  0.198164  0.117350         0.216534       0          2   \n",
       "2    -1.536794  0.293517  1.333053         0.240687       1          0   \n",
       "3     0.501521  0.007457 -1.225848        -0.108918       0          0   \n",
       "4     2.063884  0.388871  0.785728        -0.365276       0          2   \n",
       "\n",
       "   Gender  HasCrCard  IsActiveMember  NumOfProducts  Tenure  \n",
       "0       0          1               1              0       2  \n",
       "1       0          0               1              0       1  \n",
       "2       0          1               0              2       8  \n",
       "3       0          0               0              1       1  \n",
       "4       0          1               1              0       2  "
      ]
     },
     "execution_count": 303,
     "metadata": {},
     "output_type": "execute_result"
    }
   ],
   "source": [
    "# Appending scalled attributes DF with encoded columns\n",
    "model_df = pd.concat([standardized_df,le_df],axis=1)\n",
    "model_df.head()"
   ]
  },
  {
   "cell_type": "code",
   "execution_count": 305,
   "metadata": {},
   "outputs": [],
   "source": [
    "# Exited column is our target attribute and rest are featurs\n",
    "X = model_df.drop(['Exited'],axis=1)\n",
    "y = model_df['Exited']"
   ]
  },
  {
   "cell_type": "code",
   "execution_count": 306,
   "metadata": {},
   "outputs": [
    {
     "data": {
      "text/html": [
       "<div>\n",
       "<style scoped>\n",
       "    .dataframe tbody tr th:only-of-type {\n",
       "        vertical-align: middle;\n",
       "    }\n",
       "\n",
       "    .dataframe tbody tr th {\n",
       "        vertical-align: top;\n",
       "    }\n",
       "\n",
       "    .dataframe thead th {\n",
       "        text-align: right;\n",
       "    }\n",
       "</style>\n",
       "<table border=\"1\" class=\"dataframe\">\n",
       "  <thead>\n",
       "    <tr style=\"text-align: right;\">\n",
       "      <th></th>\n",
       "      <th>CreditScore</th>\n",
       "      <th>Age</th>\n",
       "      <th>Balance</th>\n",
       "      <th>EstimatedSalary</th>\n",
       "      <th>Exited</th>\n",
       "      <th>Geography</th>\n",
       "      <th>Gender</th>\n",
       "      <th>HasCrCard</th>\n",
       "      <th>IsActiveMember</th>\n",
       "      <th>NumOfProducts</th>\n",
       "      <th>Tenure</th>\n",
       "    </tr>\n",
       "  </thead>\n",
       "  <tbody>\n",
       "    <tr>\n",
       "      <th>0</th>\n",
       "      <td>-0.326221</td>\n",
       "      <td>0.293517</td>\n",
       "      <td>-1.225848</td>\n",
       "      <td>0.021886</td>\n",
       "      <td>1</td>\n",
       "      <td>0</td>\n",
       "      <td>0</td>\n",
       "      <td>1</td>\n",
       "      <td>1</td>\n",
       "      <td>0</td>\n",
       "      <td>2</td>\n",
       "    </tr>\n",
       "    <tr>\n",
       "      <th>1</th>\n",
       "      <td>-0.440036</td>\n",
       "      <td>0.198164</td>\n",
       "      <td>0.117350</td>\n",
       "      <td>0.216534</td>\n",
       "      <td>0</td>\n",
       "      <td>2</td>\n",
       "      <td>0</td>\n",
       "      <td>0</td>\n",
       "      <td>1</td>\n",
       "      <td>0</td>\n",
       "      <td>1</td>\n",
       "    </tr>\n",
       "    <tr>\n",
       "      <th>2</th>\n",
       "      <td>-1.536794</td>\n",
       "      <td>0.293517</td>\n",
       "      <td>1.333053</td>\n",
       "      <td>0.240687</td>\n",
       "      <td>1</td>\n",
       "      <td>0</td>\n",
       "      <td>0</td>\n",
       "      <td>1</td>\n",
       "      <td>0</td>\n",
       "      <td>2</td>\n",
       "      <td>8</td>\n",
       "    </tr>\n",
       "    <tr>\n",
       "      <th>3</th>\n",
       "      <td>0.501521</td>\n",
       "      <td>0.007457</td>\n",
       "      <td>-1.225848</td>\n",
       "      <td>-0.108918</td>\n",
       "      <td>0</td>\n",
       "      <td>0</td>\n",
       "      <td>0</td>\n",
       "      <td>0</td>\n",
       "      <td>0</td>\n",
       "      <td>1</td>\n",
       "      <td>1</td>\n",
       "    </tr>\n",
       "    <tr>\n",
       "      <th>4</th>\n",
       "      <td>2.063884</td>\n",
       "      <td>0.388871</td>\n",
       "      <td>0.785728</td>\n",
       "      <td>-0.365276</td>\n",
       "      <td>0</td>\n",
       "      <td>2</td>\n",
       "      <td>0</td>\n",
       "      <td>1</td>\n",
       "      <td>1</td>\n",
       "      <td>0</td>\n",
       "      <td>2</td>\n",
       "    </tr>\n",
       "  </tbody>\n",
       "</table>\n",
       "</div>"
      ],
      "text/plain": [
       "   CreditScore       Age   Balance  EstimatedSalary  Exited  Geography  \\\n",
       "0    -0.326221  0.293517 -1.225848         0.021886       1          0   \n",
       "1    -0.440036  0.198164  0.117350         0.216534       0          2   \n",
       "2    -1.536794  0.293517  1.333053         0.240687       1          0   \n",
       "3     0.501521  0.007457 -1.225848        -0.108918       0          0   \n",
       "4     2.063884  0.388871  0.785728        -0.365276       0          2   \n",
       "\n",
       "   Gender  HasCrCard  IsActiveMember  NumOfProducts  Tenure  \n",
       "0       0          1               1              0       2  \n",
       "1       0          0               1              0       1  \n",
       "2       0          1               0              2       8  \n",
       "3       0          0               0              1       1  \n",
       "4       0          1               1              0       2  "
      ]
     },
     "execution_count": 306,
     "metadata": {},
     "output_type": "execute_result"
    }
   ],
   "source": [
    "model_df.head()"
   ]
  },
  {
   "cell_type": "code",
   "execution_count": 307,
   "metadata": {},
   "outputs": [],
   "source": [
    "# Splitting the dataset into the Training and Testing set.\n",
    "from sklearn.model_selection import train_test_split\n",
    "X_train, X_test, y_train, y_test = train_test_split(X,y, test_size = 0.2, random_state = 7)"
   ]
  },
  {
   "cell_type": "code",
   "execution_count": 308,
   "metadata": {},
   "outputs": [
    {
     "name": "stdout",
     "output_type": "stream",
     "text": [
      "training shapes: (8000, 10), (8000,)\n",
      "testing shapes: (2000, 10), (2000,)\n"
     ]
    }
   ],
   "source": [
    "print(f'training shapes: {X_train.shape}, {y_train.shape}')\n",
    "print(f'testing shapes: {X_test.shape}, {y_test.shape}')"
   ]
  },
  {
   "cell_type": "raw",
   "metadata": {},
   "source": [
    "# Lets try decision tree and KNeighborsClassifier"
   ]
  },
  {
   "cell_type": "code",
   "execution_count": 333,
   "metadata": {},
   "outputs": [
    {
     "name": "stdout",
     "output_type": "stream",
     "text": [
      "              precision    recall  f1-score   support\n",
      "\n",
      "           0       0.86      0.97      0.91      1589\n",
      "           1       0.78      0.37      0.50       411\n",
      "\n",
      "    accuracy                           0.85      2000\n",
      "   macro avg       0.82      0.67      0.70      2000\n",
      "weighted avg       0.84      0.85      0.83      2000\n",
      "\n"
     ]
    }
   ],
   "source": [
    "from sklearn.tree import DecisionTreeClassifier\n",
    "from sklearn import tree\n",
    "from sklearn.metrics import mean_squared_error\n",
    "from sklearn.metrics import classification_report\n",
    "\n",
    "dt_clf = DecisionTreeClassifier(max_depth=5,max_features='sqrt')\n",
    "\n",
    "dt_clf.fit(X_train, y_train)\n",
    "pred = dt_clf.predict(X_test)\n",
    "print(classification_report(y_test, pred))\n"
   ]
  },
  {
   "cell_type": "code",
   "execution_count": 331,
   "metadata": {},
   "outputs": [
    {
     "name": "stdout",
     "output_type": "stream",
     "text": [
      "              precision    recall  f1-score   support\n",
      "\n",
      "           0       0.85      0.92      0.88      1589\n",
      "           1       0.55      0.38      0.45       411\n",
      "\n",
      "    accuracy                           0.81      2000\n",
      "   macro avg       0.70      0.65      0.67      2000\n",
      "weighted avg       0.79      0.81      0.80      2000\n",
      "\n"
     ]
    }
   ],
   "source": [
    "from sklearn.neighbors import KNeighborsClassifier\n",
    "neigh = KNeighborsClassifier(n_neighbors=3)\n",
    "neigh.fit(X_train, y_train)\n",
    "pred = neigh.predict(X_test)\n",
    "print(classification_report(y_test, pred))"
   ]
  },
  {
   "cell_type": "raw",
   "metadata": {},
   "source": [
    "Creating a NN  model:\n",
    "Keras model object can be created with Sequential class\n",
    "\n",
    "At the outset, the model is empty per se. It is completed by adding additional layers and compilation"
   ]
  },
  {
   "cell_type": "code",
   "execution_count": 309,
   "metadata": {},
   "outputs": [],
   "source": [
    "model1 = Sequential()\n",
    "\n",
    "from tensorflow.keras.metrics import Recall"
   ]
  },
  {
   "cell_type": "raw",
   "metadata": {},
   "source": [
    "Adding layers [layers and activations]:\n",
    "\n",
    "\n",
    "Keras layers can be added to the model\n",
    "\n",
    "Adding layers are like stacking lego blocks one by one\n",
    "\n",
    "It should be noted that as this is a classification problem, sigmoid layer (softmax for multi-class problems) should be added"
   ]
  },
  {
   "cell_type": "code",
   "execution_count": 310,
   "metadata": {},
   "outputs": [],
   "source": [
    "model1.add(Dense(32, input_shape = (10,), activation = 'relu'))\n",
    "model1.add(Dense(16, activation = 'relu'))\n",
    "model1.add(Dense(16, activation = 'relu'))\n",
    "model1.add(Dense(1, activation = 'sigmoid'))"
   ]
  },
  {
   "cell_type": "raw",
   "metadata": {},
   "source": [
    "Model compile [optimizers and loss functions]\n",
    "Keras model should be \"compiled\" prior to training\n",
    "\n",
    "Types of loss (function) and optimizer should be designated"
   ]
  },
  {
   "cell_type": "code",
   "execution_count": 311,
   "metadata": {},
   "outputs": [],
   "source": [
    "sgd = optimizers.Adam(lr = 0.001)"
   ]
  },
  {
   "cell_type": "code",
   "execution_count": 312,
   "metadata": {},
   "outputs": [],
   "source": [
    "model.compile(optimizer = sgd, loss = 'binary_crossentropy', metrics=[\"accuracy\"])"
   ]
  },
  {
   "cell_type": "raw",
   "metadata": {},
   "source": [
    "Summary of Model"
   ]
  },
  {
   "cell_type": "code",
   "execution_count": 313,
   "metadata": {},
   "outputs": [
    {
     "name": "stdout",
     "output_type": "stream",
     "text": [
      "Model: \"sequential_15\"\n",
      "_________________________________________________________________\n",
      "Layer (type)                 Output Shape              Param #   \n",
      "=================================================================\n",
      "dense_60 (Dense)             (None, 32)                352       \n",
      "_________________________________________________________________\n",
      "dense_61 (Dense)             (None, 16)                528       \n",
      "_________________________________________________________________\n",
      "dense_62 (Dense)             (None, 16)                272       \n",
      "_________________________________________________________________\n",
      "dense_63 (Dense)             (None, 1)                 17        \n",
      "=================================================================\n",
      "Total params: 1,169\n",
      "Trainable params: 1,169\n",
      "Non-trainable params: 0\n",
      "_________________________________________________________________\n"
     ]
    }
   ],
   "source": [
    "model1.summary()"
   ]
  },
  {
   "cell_type": "code",
   "execution_count": 314,
   "metadata": {},
   "outputs": [
    {
     "name": "stdout",
     "output_type": "stream",
     "text": [
      "WARNING:tensorflow:Falling back from v2 loop because of error: Failed to find data adapter that can handle input: <class 'pandas.core.frame.DataFrame'>, <class 'NoneType'>\n",
      "Train on 8000 samples\n",
      "Epoch 1/50\n",
      "8000/8000 [==============================] - 2s 220us/sample - loss: 0.4905 - accuracy: 0.7790\n",
      "Epoch 2/50\n",
      "8000/8000 [==============================] - 1s 181us/sample - loss: 0.4236 - accuracy: 0.8080\n",
      "Epoch 3/50\n",
      "8000/8000 [==============================] - 1s 173us/sample - loss: 0.4004 - accuracy: 0.8244\n",
      "Epoch 4/50\n",
      "8000/8000 [==============================] - 1s 174us/sample - loss: 0.3736 - accuracy: 0.8396\n",
      "Epoch 5/50\n",
      "8000/8000 [==============================] - 2s 189us/sample - loss: 0.3584 - accuracy: 0.8509\n",
      "Epoch 6/50\n",
      "8000/8000 [==============================] - 1s 186us/sample - loss: 0.3525 - accuracy: 0.8529\n",
      "Epoch 7/50\n",
      "8000/8000 [==============================] - 1s 176us/sample - loss: 0.3460 - accuracy: 0.8559\n",
      "Epoch 8/50\n",
      "8000/8000 [==============================] - 1s 173us/sample - loss: 0.3431 - accuracy: 0.8577\n",
      "Epoch 9/50\n",
      "8000/8000 [==============================] - 1s 174us/sample - loss: 0.3422 - accuracy: 0.8566\n",
      "Epoch 10/50\n",
      "8000/8000 [==============================] - 1s 173us/sample - loss: 0.3393 - accuracy: 0.8579\n",
      "Epoch 11/50\n",
      "8000/8000 [==============================] - 1s 173us/sample - loss: 0.3367 - accuracy: 0.8589\n",
      "Epoch 12/50\n",
      "8000/8000 [==============================] - 2s 204us/sample - loss: 0.3355 - accuracy: 0.8625\n",
      "Epoch 13/50\n",
      "8000/8000 [==============================] - 2s 253us/sample - loss: 0.3339 - accuracy: 0.8624\n",
      "Epoch 14/50\n",
      "8000/8000 [==============================] - 2s 220us/sample - loss: 0.3344 - accuracy: 0.8587\n",
      "Epoch 15/50\n",
      "8000/8000 [==============================] - 2s 199us/sample - loss: 0.3320 - accuracy: 0.8594\n",
      "Epoch 16/50\n",
      "8000/8000 [==============================] - 2s 212us/sample - loss: 0.3300 - accuracy: 0.8633\n",
      "Epoch 17/50\n",
      "8000/8000 [==============================] - 2s 198us/sample - loss: 0.3283 - accuracy: 0.8637\n",
      "Epoch 18/50\n",
      "8000/8000 [==============================] - 2s 205us/sample - loss: 0.3283 - accuracy: 0.8652\n",
      "Epoch 19/50\n",
      "8000/8000 [==============================] - 1s 184us/sample - loss: 0.3263 - accuracy: 0.8671\n",
      "Epoch 20/50\n",
      "8000/8000 [==============================] - 2s 196us/sample - loss: 0.3257 - accuracy: 0.8659\n",
      "Epoch 21/50\n",
      "8000/8000 [==============================] - 1s 184us/sample - loss: 0.3249 - accuracy: 0.8654\n",
      "Epoch 22/50\n",
      "8000/8000 [==============================] - 1s 187us/sample - loss: 0.3234 - accuracy: 0.8674\n",
      "Epoch 23/50\n",
      "8000/8000 [==============================] - 2s 191us/sample - loss: 0.3228 - accuracy: 0.8661\n",
      "Epoch 24/50\n",
      "8000/8000 [==============================] - 2s 196us/sample - loss: 0.3223 - accuracy: 0.8662\n",
      "Epoch 25/50\n",
      "8000/8000 [==============================] - 2s 196us/sample - loss: 0.3212 - accuracy: 0.8675\n",
      "Epoch 26/50\n",
      "8000/8000 [==============================] - 1s 181us/sample - loss: 0.3209 - accuracy: 0.8655\n",
      "Epoch 27/50\n",
      "8000/8000 [==============================] - 1s 180us/sample - loss: 0.3188 - accuracy: 0.8705\n",
      "Epoch 28/50\n",
      "8000/8000 [==============================] - 1s 182us/sample - loss: 0.3185 - accuracy: 0.8681\n",
      "Epoch 29/50\n",
      "8000/8000 [==============================] - 1s 185us/sample - loss: 0.3181 - accuracy: 0.8681\n",
      "Epoch 30/50\n",
      "8000/8000 [==============================] - 1s 182us/sample - loss: 0.3169 - accuracy: 0.8680\n",
      "Epoch 31/50\n",
      "8000/8000 [==============================] - 2s 198us/sample - loss: 0.3172 - accuracy: 0.8705\n",
      "Epoch 32/50\n",
      "8000/8000 [==============================] - 2s 201us/sample - loss: 0.3157 - accuracy: 0.8668\n",
      "Epoch 33/50\n",
      "8000/8000 [==============================] - 1s 183us/sample - loss: 0.3145 - accuracy: 0.8694\n",
      "Epoch 34/50\n",
      "8000/8000 [==============================] - 1s 183us/sample - loss: 0.3152 - accuracy: 0.8699\n",
      "Epoch 35/50\n",
      "8000/8000 [==============================] - 1s 181us/sample - loss: 0.3162 - accuracy: 0.8681\n",
      "Epoch 36/50\n",
      "8000/8000 [==============================] - 1s 182us/sample - loss: 0.3147 - accuracy: 0.8691\n",
      "Epoch 37/50\n",
      "8000/8000 [==============================] - 1s 181us/sample - loss: 0.3141 - accuracy: 0.8684\n",
      "Epoch 38/50\n",
      "8000/8000 [==============================] - 2s 205us/sample - loss: 0.3120 - accuracy: 0.8700\n",
      "Epoch 39/50\n",
      "8000/8000 [==============================] - 1s 185us/sample - loss: 0.3123 - accuracy: 0.8702\n",
      "Epoch 40/50\n",
      "8000/8000 [==============================] - 2s 193us/sample - loss: 0.3120 - accuracy: 0.8701\n",
      "Epoch 41/50\n",
      "8000/8000 [==============================] - 1s 187us/sample - loss: 0.3108 - accuracy: 0.8715\n",
      "Epoch 42/50\n",
      "8000/8000 [==============================] - 1s 186us/sample - loss: 0.3119 - accuracy: 0.8705\n",
      "Epoch 43/50\n",
      "8000/8000 [==============================] - 1s 185us/sample - loss: 0.3113 - accuracy: 0.8714\n",
      "Epoch 44/50\n",
      "8000/8000 [==============================] - 2s 189us/sample - loss: 0.3090 - accuracy: 0.8709\n",
      "Epoch 45/50\n",
      "8000/8000 [==============================] - 2s 201us/sample - loss: 0.3101 - accuracy: 0.8733\n",
      "Epoch 46/50\n",
      "8000/8000 [==============================] - 2s 189us/sample - loss: 0.3080 - accuracy: 0.8715\n",
      "Epoch 47/50\n",
      "8000/8000 [==============================] - 1s 185us/sample - loss: 0.3085 - accuracy: 0.8734\n",
      "Epoch 48/50\n",
      "8000/8000 [==============================] - 2s 191us/sample - loss: 0.3070 - accuracy: 0.8723\n",
      "Epoch 49/50\n",
      "8000/8000 [==============================] - 2s 216us/sample - loss: 0.3075 - accuracy: 0.8720\n",
      "Epoch 50/50\n",
      "8000/8000 [==============================] - 2s 209us/sample - loss: 0.3077 - accuracy: 0.8711\n"
     ]
    },
    {
     "data": {
      "text/plain": [
       "<tensorflow.python.keras.callbacks.History at 0x23db5a88>"
      ]
     },
     "execution_count": 314,
     "metadata": {},
     "output_type": "execute_result"
    }
   ],
   "source": [
    "model1.fit(X_train, y_train.values, batch_size = 20, epochs = 50, verbose = 1)"
   ]
  },
  {
   "cell_type": "code",
   "execution_count": 315,
   "metadata": {},
   "outputs": [
    {
     "name": "stdout",
     "output_type": "stream",
     "text": [
      "WARNING:tensorflow:Falling back from v2 loop because of error: Failed to find data adapter that can handle input: <class 'pandas.core.frame.DataFrame'>, <class 'NoneType'>\n",
      "[[1500   89]\n",
      " [ 210  201]] \n",
      "\n",
      " [[False]\n",
      " [False]\n",
      " [False]\n",
      " [ True]\n",
      " [False]]\n"
     ]
    }
   ],
   "source": [
    "#predicting the results of model\n",
    "\n",
    "y_pred = model1.predict(X_test)\n",
    "y_pred = (y_pred > 0.5) #to classify each probability into True or False\n",
    "\n",
    "from sklearn.metrics import confusion_matrix\n",
    "cm = confusion_matrix(y_test, y_pred)\n",
    "print (cm, '\\n\\n', y_pred[:5, :])"
   ]
  },
  {
   "cell_type": "code",
   "execution_count": 325,
   "metadata": {},
   "outputs": [
    {
     "name": "stdout",
     "output_type": "stream",
     "text": [
      "0.8505\n"
     ]
    }
   ],
   "source": [
    "#accuracy of model\n",
    "print ((1500 + 201)/2000)"
   ]
  },
  {
   "cell_type": "code",
   "execution_count": 317,
   "metadata": {},
   "outputs": [],
   "source": [
    "#Model looks good and slightly overfit, Now lets adjust hyperparameter and see if can get better result for moodel2"
   ]
  },
  {
   "cell_type": "code",
   "execution_count": 318,
   "metadata": {},
   "outputs": [],
   "source": [
    "model2 = Sequential()\n",
    "model2.add(Dense(32, input_shape = (10,), activation = 'relu'))\n",
    "model2.add(Dense(16, activation = 'relu'))\n",
    "model2.add(Dense(16, activation = 'relu'))\n",
    "model2.add(Dense(1, activation = 'sigmoid'))"
   ]
  },
  {
   "cell_type": "code",
   "execution_count": 319,
   "metadata": {},
   "outputs": [],
   "source": [
    "sgd = optimizers.Adam(lr = 0.001)"
   ]
  },
  {
   "cell_type": "code",
   "execution_count": 320,
   "metadata": {},
   "outputs": [],
   "source": [
    "model2.compile(optimizer = sgd, loss = 'binary_crossentropy', metrics=[\"accuracy\"])"
   ]
  },
  {
   "cell_type": "code",
   "execution_count": 321,
   "metadata": {},
   "outputs": [
    {
     "name": "stdout",
     "output_type": "stream",
     "text": [
      "Model: \"sequential_16\"\n",
      "_________________________________________________________________\n",
      "Layer (type)                 Output Shape              Param #   \n",
      "=================================================================\n",
      "dense_64 (Dense)             (None, 32)                352       \n",
      "_________________________________________________________________\n",
      "dense_65 (Dense)             (None, 16)                528       \n",
      "_________________________________________________________________\n",
      "dense_66 (Dense)             (None, 16)                272       \n",
      "_________________________________________________________________\n",
      "dense_67 (Dense)             (None, 1)                 17        \n",
      "=================================================================\n",
      "Total params: 1,169\n",
      "Trainable params: 1,169\n",
      "Non-trainable params: 0\n",
      "_________________________________________________________________\n"
     ]
    }
   ],
   "source": [
    "model2.summary()"
   ]
  },
  {
   "cell_type": "code",
   "execution_count": 322,
   "metadata": {},
   "outputs": [
    {
     "name": "stdout",
     "output_type": "stream",
     "text": [
      "WARNING:tensorflow:Falling back from v2 loop because of error: Failed to find data adapter that can handle input: <class 'pandas.core.frame.DataFrame'>, <class 'NoneType'>\n",
      "Train on 8000 samples\n",
      "Epoch 1/50\n",
      "8000/8000 - 1s - loss: 0.5224 - accuracy: 0.7968\n",
      "Epoch 2/50\n",
      "8000/8000 - 0s - loss: 0.4600 - accuracy: 0.7971\n",
      "Epoch 3/50\n",
      "8000/8000 - 0s - loss: 0.4390 - accuracy: 0.8025\n",
      "Epoch 4/50\n",
      "8000/8000 - 0s - loss: 0.4310 - accuracy: 0.8066\n",
      "Epoch 5/50\n",
      "8000/8000 - 0s - loss: 0.4272 - accuracy: 0.8133\n",
      "Epoch 6/50\n",
      "8000/8000 - 0s - loss: 0.4225 - accuracy: 0.8151\n",
      "Epoch 7/50\n",
      "8000/8000 - 0s - loss: 0.4184 - accuracy: 0.8200\n",
      "Epoch 8/50\n",
      "8000/8000 - 0s - loss: 0.4142 - accuracy: 0.8259\n",
      "Epoch 9/50\n",
      "8000/8000 - 0s - loss: 0.4084 - accuracy: 0.8296\n",
      "Epoch 10/50\n",
      "8000/8000 - 0s - loss: 0.4024 - accuracy: 0.8303\n",
      "Epoch 11/50\n",
      "8000/8000 - 0s - loss: 0.3960 - accuracy: 0.8316\n",
      "Epoch 12/50\n",
      "8000/8000 - 0s - loss: 0.3894 - accuracy: 0.8340\n",
      "Epoch 13/50\n",
      "8000/8000 - 0s - loss: 0.3847 - accuracy: 0.8374\n",
      "Epoch 14/50\n",
      "8000/8000 - 0s - loss: 0.3804 - accuracy: 0.8381\n",
      "Epoch 15/50\n",
      "8000/8000 - 0s - loss: 0.3764 - accuracy: 0.8407\n",
      "Epoch 16/50\n",
      "8000/8000 - 0s - loss: 0.3743 - accuracy: 0.8415\n",
      "Epoch 17/50\n",
      "8000/8000 - 0s - loss: 0.3693 - accuracy: 0.8429\n",
      "Epoch 18/50\n",
      "8000/8000 - 0s - loss: 0.3659 - accuracy: 0.8430\n",
      "Epoch 19/50\n",
      "8000/8000 - 0s - loss: 0.3637 - accuracy: 0.8445\n",
      "Epoch 20/50\n",
      "8000/8000 - 0s - loss: 0.3622 - accuracy: 0.8456\n",
      "Epoch 21/50\n",
      "8000/8000 - 0s - loss: 0.3592 - accuracy: 0.8464\n",
      "Epoch 22/50\n",
      "8000/8000 - 0s - loss: 0.3549 - accuracy: 0.8476\n",
      "Epoch 23/50\n",
      "8000/8000 - 0s - loss: 0.3521 - accuracy: 0.8482\n",
      "Epoch 24/50\n",
      "8000/8000 - 0s - loss: 0.3504 - accuracy: 0.8511\n",
      "Epoch 25/50\n",
      "8000/8000 - 0s - loss: 0.3477 - accuracy: 0.8541\n",
      "Epoch 26/50\n",
      "8000/8000 - 0s - loss: 0.3453 - accuracy: 0.8536\n",
      "Epoch 27/50\n",
      "8000/8000 - 0s - loss: 0.3443 - accuracy: 0.8555\n",
      "Epoch 28/50\n",
      "8000/8000 - 0s - loss: 0.3425 - accuracy: 0.8556\n",
      "Epoch 29/50\n",
      "8000/8000 - 0s - loss: 0.3417 - accuracy: 0.8576\n",
      "Epoch 30/50\n",
      "8000/8000 - 0s - loss: 0.3392 - accuracy: 0.8565\n",
      "Epoch 31/50\n",
      "8000/8000 - 0s - loss: 0.3389 - accuracy: 0.8579\n",
      "Epoch 32/50\n",
      "8000/8000 - 0s - loss: 0.3368 - accuracy: 0.8575\n",
      "Epoch 33/50\n",
      "8000/8000 - 0s - loss: 0.3371 - accuracy: 0.8553\n",
      "Epoch 34/50\n",
      "8000/8000 - 0s - loss: 0.3347 - accuracy: 0.8597\n",
      "Epoch 35/50\n",
      "8000/8000 - 0s - loss: 0.3331 - accuracy: 0.8619\n",
      "Epoch 36/50\n",
      "8000/8000 - 0s - loss: 0.3327 - accuracy: 0.8614\n",
      "Epoch 37/50\n",
      "8000/8000 - 0s - loss: 0.3316 - accuracy: 0.8618\n",
      "Epoch 38/50\n",
      "8000/8000 - 0s - loss: 0.3319 - accuracy: 0.8626\n",
      "Epoch 39/50\n",
      "8000/8000 - 0s - loss: 0.3295 - accuracy: 0.8615\n",
      "Epoch 40/50\n",
      "8000/8000 - 0s - loss: 0.3290 - accuracy: 0.8634\n",
      "Epoch 41/50\n",
      "8000/8000 - 0s - loss: 0.3281 - accuracy: 0.8634\n",
      "Epoch 42/50\n",
      "8000/8000 - 0s - loss: 0.3295 - accuracy: 0.8636\n",
      "Epoch 43/50\n",
      "8000/8000 - 0s - loss: 0.3273 - accuracy: 0.8634\n",
      "Epoch 44/50\n",
      "8000/8000 - 0s - loss: 0.3299 - accuracy: 0.8618\n",
      "Epoch 45/50\n",
      "8000/8000 - 0s - loss: 0.3270 - accuracy: 0.8650\n",
      "Epoch 46/50\n",
      "8000/8000 - 0s - loss: 0.3267 - accuracy: 0.8649\n",
      "Epoch 47/50\n",
      "8000/8000 - 0s - loss: 0.3243 - accuracy: 0.8665\n",
      "Epoch 48/50\n",
      "8000/8000 - 0s - loss: 0.3236 - accuracy: 0.8644\n",
      "Epoch 49/50\n",
      "8000/8000 - 0s - loss: 0.3240 - accuracy: 0.8666\n",
      "Epoch 50/50\n",
      "8000/8000 - 0s - loss: 0.3228 - accuracy: 0.8660\n"
     ]
    },
    {
     "data": {
      "text/plain": [
       "<tensorflow.python.keras.callbacks.History at 0x23ef5ac8>"
      ]
     },
     "execution_count": 322,
     "metadata": {},
     "output_type": "execute_result"
    }
   ],
   "source": [
    "model2.fit(X_train, y_train.values, batch_size = 200, epochs = 50, verbose = 2)"
   ]
  },
  {
   "cell_type": "code",
   "execution_count": 323,
   "metadata": {},
   "outputs": [
    {
     "name": "stdout",
     "output_type": "stream",
     "text": [
      "WARNING:tensorflow:Falling back from v2 loop because of error: Failed to find data adapter that can handle input: <class 'pandas.core.frame.DataFrame'>, <class 'NoneType'>\n",
      "[[1475  114]\n",
      " [ 187  224]] \n",
      "\n",
      " [[ True]\n",
      " [False]\n",
      " [False]\n",
      " [ True]\n",
      " [False]]\n"
     ]
    }
   ],
   "source": [
    "#predicting the results using model1\n",
    "\n",
    "y_pred = model2.predict(X_test)\n",
    "y_pred = (y_pred > 0.5) #to classify each probability into True or False\n",
    "\n",
    "from sklearn.metrics import confusion_matrix\n",
    "cm = confusion_matrix(y_test, y_pred)\n",
    "print (cm, '\\n\\n', y_pred[:5, :])"
   ]
  },
  {
   "cell_type": "code",
   "execution_count": 326,
   "metadata": {},
   "outputs": [
    {
     "name": "stdout",
     "output_type": "stream",
     "text": [
      "0.8495\n"
     ]
    }
   ],
   "source": [
    "#accuracy of model2\n",
    "print ((1475 + 224)/2000)"
   ]
  },
  {
   "cell_type": "code",
   "execution_count": 73,
   "metadata": {},
   "outputs": [],
   "source": [
    "#We found this model2 better slightly than model1"
   ]
  }
 ],
 "metadata": {
  "kernelspec": {
   "display_name": "Python 3",
   "language": "python",
   "name": "python3"
  },
  "language_info": {
   "codemirror_mode": {
    "name": "ipython",
    "version": 3
   },
   "file_extension": ".py",
   "mimetype": "text/x-python",
   "name": "python",
   "nbconvert_exporter": "python",
   "pygments_lexer": "ipython3",
   "version": "3.7.6"
  }
 },
 "nbformat": 4,
 "nbformat_minor": 4
}
